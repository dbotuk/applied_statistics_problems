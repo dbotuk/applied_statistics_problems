{
 "cells": [
  {
   "cell_type": "markdown",
   "id": "1f4d661d",
   "metadata": {},
   "source": [
    "$\\setcounter{secnumdepth}{0}$"
   ]
  },
  {
   "cell_type": "markdown",
   "id": "6935a98f",
   "metadata": {},
   "source": [
    "## Completed by:   \n",
    "*   Denys Botuk"
   ]
  },
  {
   "cell_type": "code",
   "execution_count": 1,
   "id": "cfd77b5c",
   "metadata": {},
   "outputs": [],
   "source": [
    "import math\n",
    "import pandas as pd\n",
    "import numpy as np\n",
    "import scipy.stats as st\n",
    "import seaborn as sns\n",
    "import matplotlib.pyplot as plt\n",
    "import warnings\n",
    "\n",
    "from scipy.special import beta\n",
    "from scipy.optimize import minimize\n",
    "\n",
    "warnings.simplefilter(action='ignore', category=FutureWarning)"
   ]
  },
  {
   "cell_type": "markdown",
   "id": "5e750159",
   "metadata": {},
   "source": [
    "# Problem 4: Inferential statistics"
   ]
  },
  {
   "cell_type": "markdown",
   "id": "db3a8fbf",
   "metadata": {},
   "source": [
    "## 1. The objective of this part is to get a better feeling for the ML estimation procedure. Consider the daily UAH/Euro exchange rate for the last year. The data can be downloaded, for example, from www.investing.com. Financial data typically has heavy tails and better fits the t-distribution, than the normal distribution."
   ]
  },
  {
   "cell_type": "markdown",
   "id": "4cc44502",
   "metadata": {},
   "source": [
    "Let's download the historical data from www.investing.com about EUR/UAH exchange rates and look at them:"
   ]
  },
  {
   "cell_type": "code",
   "execution_count": 2,
   "id": "f251c1ad",
   "metadata": {},
   "outputs": [
    {
     "data": {
      "text/html": [
       "<div>\n",
       "<style scoped>\n",
       "    .dataframe tbody tr th:only-of-type {\n",
       "        vertical-align: middle;\n",
       "    }\n",
       "\n",
       "    .dataframe tbody tr th {\n",
       "        vertical-align: top;\n",
       "    }\n",
       "\n",
       "    .dataframe thead th {\n",
       "        text-align: right;\n",
       "    }\n",
       "</style>\n",
       "<table border=\"1\" class=\"dataframe\">\n",
       "  <thead>\n",
       "    <tr style=\"text-align: right;\">\n",
       "      <th></th>\n",
       "      <th>Date</th>\n",
       "      <th>Price</th>\n",
       "      <th>Open</th>\n",
       "      <th>High</th>\n",
       "      <th>Low</th>\n",
       "      <th>Vol.</th>\n",
       "      <th>Change %</th>\n",
       "    </tr>\n",
       "  </thead>\n",
       "  <tbody>\n",
       "    <tr>\n",
       "      <th>0</th>\n",
       "      <td>03/11/2023</td>\n",
       "      <td>38.7317</td>\n",
       "      <td>38.5615</td>\n",
       "      <td>39.1237</td>\n",
       "      <td>38.4311</td>\n",
       "      <td>NaN</td>\n",
       "      <td>0.75%</td>\n",
       "    </tr>\n",
       "    <tr>\n",
       "      <th>1</th>\n",
       "      <td>02/11/2023</td>\n",
       "      <td>38.4444</td>\n",
       "      <td>38.4184</td>\n",
       "      <td>38.9694</td>\n",
       "      <td>38.3965</td>\n",
       "      <td>NaN</td>\n",
       "      <td>0.09%</td>\n",
       "    </tr>\n",
       "    <tr>\n",
       "      <th>2</th>\n",
       "      <td>01/11/2023</td>\n",
       "      <td>38.4094</td>\n",
       "      <td>38.3836</td>\n",
       "      <td>38.8150</td>\n",
       "      <td>38.2029</td>\n",
       "      <td>NaN</td>\n",
       "      <td>0.32%</td>\n",
       "    </tr>\n",
       "    <tr>\n",
       "      <th>3</th>\n",
       "      <td>31/10/2023</td>\n",
       "      <td>38.2851</td>\n",
       "      <td>38.6423</td>\n",
       "      <td>39.1202</td>\n",
       "      <td>38.3165</td>\n",
       "      <td>NaN</td>\n",
       "      <td>-0.62%</td>\n",
       "    </tr>\n",
       "    <tr>\n",
       "      <th>4</th>\n",
       "      <td>30/10/2023</td>\n",
       "      <td>38.5252</td>\n",
       "      <td>38.5078</td>\n",
       "      <td>38.7575</td>\n",
       "      <td>38.3493</td>\n",
       "      <td>NaN</td>\n",
       "      <td>0.13%</td>\n",
       "    </tr>\n",
       "    <tr>\n",
       "      <th>...</th>\n",
       "      <td>...</td>\n",
       "      <td>...</td>\n",
       "      <td>...</td>\n",
       "      <td>...</td>\n",
       "      <td>...</td>\n",
       "      <td>...</td>\n",
       "      <td>...</td>\n",
       "    </tr>\n",
       "    <tr>\n",
       "      <th>256</th>\n",
       "      <td>10/11/2022</td>\n",
       "      <td>37.6981</td>\n",
       "      <td>36.9783</td>\n",
       "      <td>37.7539</td>\n",
       "      <td>36.5192</td>\n",
       "      <td>130.24K</td>\n",
       "      <td>1.96%</td>\n",
       "    </tr>\n",
       "    <tr>\n",
       "      <th>257</th>\n",
       "      <td>09/11/2022</td>\n",
       "      <td>36.9743</td>\n",
       "      <td>36.9888</td>\n",
       "      <td>37.2570</td>\n",
       "      <td>36.6936</td>\n",
       "      <td>119.36K</td>\n",
       "      <td>0.58%</td>\n",
       "    </tr>\n",
       "    <tr>\n",
       "      <th>258</th>\n",
       "      <td>08/11/2022</td>\n",
       "      <td>36.7628</td>\n",
       "      <td>36.7960</td>\n",
       "      <td>37.1291</td>\n",
       "      <td>36.6562</td>\n",
       "      <td>100.71K</td>\n",
       "      <td>0.53%</td>\n",
       "    </tr>\n",
       "    <tr>\n",
       "      <th>259</th>\n",
       "      <td>07/11/2022</td>\n",
       "      <td>36.5694</td>\n",
       "      <td>36.4880</td>\n",
       "      <td>37.0091</td>\n",
       "      <td>36.3966</td>\n",
       "      <td>94.51K</td>\n",
       "      <td>0.06%</td>\n",
       "    </tr>\n",
       "    <tr>\n",
       "      <th>260</th>\n",
       "      <td>04/11/2022</td>\n",
       "      <td>36.5482</td>\n",
       "      <td>35.7991</td>\n",
       "      <td>36.6978</td>\n",
       "      <td>35.7697</td>\n",
       "      <td>86.23K</td>\n",
       "      <td>2.69%</td>\n",
       "    </tr>\n",
       "  </tbody>\n",
       "</table>\n",
       "<p>261 rows × 7 columns</p>\n",
       "</div>"
      ],
      "text/plain": [
       "           Date    Price     Open     High      Low     Vol. Change %\n",
       "0    03/11/2023  38.7317  38.5615  39.1237  38.4311      NaN    0.75%\n",
       "1    02/11/2023  38.4444  38.4184  38.9694  38.3965      NaN    0.09%\n",
       "2    01/11/2023  38.4094  38.3836  38.8150  38.2029      NaN    0.32%\n",
       "3    31/10/2023  38.2851  38.6423  39.1202  38.3165      NaN   -0.62%\n",
       "4    30/10/2023  38.5252  38.5078  38.7575  38.3493      NaN    0.13%\n",
       "..          ...      ...      ...      ...      ...      ...      ...\n",
       "256  10/11/2022  37.6981  36.9783  37.7539  36.5192  130.24K    1.96%\n",
       "257  09/11/2022  36.9743  36.9888  37.2570  36.6936  119.36K    0.58%\n",
       "258  08/11/2022  36.7628  36.7960  37.1291  36.6562  100.71K    0.53%\n",
       "259  07/11/2022  36.5694  36.4880  37.0091  36.3966   94.51K    0.06%\n",
       "260  04/11/2022  36.5482  35.7991  36.6978  35.7697   86.23K    2.69%\n",
       "\n",
       "[261 rows x 7 columns]"
      ]
     },
     "execution_count": 2,
     "metadata": {},
     "output_type": "execute_result"
    }
   ],
   "source": [
    "rate_data = pd.read_csv('EUR_UAH Historical Data.csv')\n",
    "rate_data"
   ]
  },
  {
   "cell_type": "markdown",
   "id": "e0b3d997",
   "metadata": {},
   "source": [
    "So, here we have exchange rates between EUR/UAH for each working day during last year. We will be interesting in the data from column 'Price'. Data from 'Change %' will be also useful for our analysis.\n",
    "\n",
    "Now, look at the prices data, plotting histogram:"
   ]
  },
  {
   "cell_type": "code",
   "execution_count": 3,
   "id": "bbb8f5e5",
   "metadata": {},
   "outputs": [],
   "source": [
    "prices = rate_data['Price']"
   ]
  },
  {
   "cell_type": "code",
   "execution_count": 4,
   "id": "1539bbbd",
   "metadata": {
    "scrolled": false
   },
   "outputs": [
    {
     "data": {
      "image/png": "[encoded data removed]",
      "text/plain": [
       "<Figure size 1200x400 with 1 Axes>"
      ]
     },
     "metadata": {},
     "output_type": "display_data"
    }
   ],
   "source": [
    "plt.figure(figsize=(12, 4));\n",
    "sns.histplot(prices, bins=30, kde=True, linewidth=0.5)\n",
    "plt.title('EUR/UAH Exchange Rates')\n",
    "plt.xlabel('Exchange Eate')\n",
    "plt.ylabel('Frequency')\n",
    "plt.rc('axes', axisbelow=True)\n",
    "plt.grid()"
   ]
  },
  {
   "cell_type": "markdown",
   "id": "32995d59",
   "metadata": {},
   "source": [
    "Here, we can see that the data are left-skewed. So, the mean is expected to be less than median.\n",
    "Let's take a look at some main characteristics of this sample:"
   ]
  },
  {
   "cell_type": "code",
   "execution_count": 5,
   "id": "60ae5b15",
   "metadata": {},
   "outputs": [
    {
     "data": {
      "text/plain": [
       "count    261.000000\n",
       "mean      39.533846\n",
       "std        0.869929\n",
       "min       36.548200\n",
       "25%       38.951600\n",
       "50%       39.576600\n",
       "75%       40.173100\n",
       "max       41.462300\n",
       "Name: Price, dtype: float64"
      ]
     },
     "execution_count": 5,
     "metadata": {},
     "output_type": "execute_result"
    }
   ],
   "source": [
    "rate_data['Price'].describe()"
   ]
  },
  {
   "cell_type": "markdown",
   "id": "68284158",
   "metadata": {},
   "source": [
    "As expected the mean is a little bit less than mean. \n",
    "\n",
    "Standard deviation is very small. \n",
    "\n",
    "The range of prices inside the sample is $4.92$.\n",
    "\n",
    "50% of the observations in this sample is between $38.95$ and $40.17$. $IQR = 1.22$."
   ]
  },
  {
   "cell_type": "markdown",
   "id": "053c35d7",
   "metadata": {},
   "source": [
    "### _(a) Compute the log-returns of the exchange rate: $r_t = ln(\\frac{ex_t}{ex_{t−1}})$, where $ex_t$ is the exchange rate on day $t$. Using your software run a suitable goodness-of-fit test (for example, Kolmogorov-Smirnov) to verify if the data is normally distributed. Write down the hypotheses, the test statistics and the $p$-value. What do we conclude?_"
   ]
  },
  {
   "cell_type": "markdown",
   "id": "bc4b6113",
   "metadata": {},
   "source": [
    "We are interested in analysis of exchange rates inside the sample. So, for this purpose data from \"Change %\" column will be useful.\n",
    "\n",
    "But first let make an float value without \"%\" symbol for the data from this column. "
   ]
  },
  {
   "cell_type": "code",
   "execution_count": 6,
   "id": "08c02064",
   "metadata": {},
   "outputs": [
    {
     "data": {
      "text/html": [
       "<div>\n",
       "<style scoped>\n",
       "    .dataframe tbody tr th:only-of-type {\n",
       "        vertical-align: middle;\n",
       "    }\n",
       "\n",
       "    .dataframe tbody tr th {\n",
       "        vertical-align: top;\n",
       "    }\n",
       "\n",
       "    .dataframe thead th {\n",
       "        text-align: right;\n",
       "    }\n",
       "</style>\n",
       "<table border=\"1\" class=\"dataframe\">\n",
       "  <thead>\n",
       "    <tr style=\"text-align: right;\">\n",
       "      <th></th>\n",
       "      <th>Date</th>\n",
       "      <th>Price</th>\n",
       "      <th>Open</th>\n",
       "      <th>High</th>\n",
       "      <th>Low</th>\n",
       "      <th>Vol.</th>\n",
       "      <th>Change %</th>\n",
       "    </tr>\n",
       "  </thead>\n",
       "  <tbody>\n",
       "    <tr>\n",
       "      <th>0</th>\n",
       "      <td>03/11/2023</td>\n",
       "      <td>38.7317</td>\n",
       "      <td>38.5615</td>\n",
       "      <td>39.1237</td>\n",
       "      <td>38.4311</td>\n",
       "      <td>NaN</td>\n",
       "      <td>0.75</td>\n",
       "    </tr>\n",
       "    <tr>\n",
       "      <th>1</th>\n",
       "      <td>02/11/2023</td>\n",
       "      <td>38.4444</td>\n",
       "      <td>38.4184</td>\n",
       "      <td>38.9694</td>\n",
       "      <td>38.3965</td>\n",
       "      <td>NaN</td>\n",
       "      <td>0.09</td>\n",
       "    </tr>\n",
       "    <tr>\n",
       "      <th>2</th>\n",
       "      <td>01/11/2023</td>\n",
       "      <td>38.4094</td>\n",
       "      <td>38.3836</td>\n",
       "      <td>38.8150</td>\n",
       "      <td>38.2029</td>\n",
       "      <td>NaN</td>\n",
       "      <td>0.32</td>\n",
       "    </tr>\n",
       "    <tr>\n",
       "      <th>3</th>\n",
       "      <td>31/10/2023</td>\n",
       "      <td>38.2851</td>\n",
       "      <td>38.6423</td>\n",
       "      <td>39.1202</td>\n",
       "      <td>38.3165</td>\n",
       "      <td>NaN</td>\n",
       "      <td>-0.62</td>\n",
       "    </tr>\n",
       "    <tr>\n",
       "      <th>4</th>\n",
       "      <td>30/10/2023</td>\n",
       "      <td>38.5252</td>\n",
       "      <td>38.5078</td>\n",
       "      <td>38.7575</td>\n",
       "      <td>38.3493</td>\n",
       "      <td>NaN</td>\n",
       "      <td>0.13</td>\n",
       "    </tr>\n",
       "    <tr>\n",
       "      <th>...</th>\n",
       "      <td>...</td>\n",
       "      <td>...</td>\n",
       "      <td>...</td>\n",
       "      <td>...</td>\n",
       "      <td>...</td>\n",
       "      <td>...</td>\n",
       "      <td>...</td>\n",
       "    </tr>\n",
       "    <tr>\n",
       "      <th>256</th>\n",
       "      <td>10/11/2022</td>\n",
       "      <td>37.6981</td>\n",
       "      <td>36.9783</td>\n",
       "      <td>37.7539</td>\n",
       "      <td>36.5192</td>\n",
       "      <td>130.24K</td>\n",
       "      <td>1.96</td>\n",
       "    </tr>\n",
       "    <tr>\n",
       "      <th>257</th>\n",
       "      <td>09/11/2022</td>\n",
       "      <td>36.9743</td>\n",
       "      <td>36.9888</td>\n",
       "      <td>37.2570</td>\n",
       "      <td>36.6936</td>\n",
       "      <td>119.36K</td>\n",
       "      <td>0.58</td>\n",
       "    </tr>\n",
       "    <tr>\n",
       "      <th>258</th>\n",
       "      <td>08/11/2022</td>\n",
       "      <td>36.7628</td>\n",
       "      <td>36.7960</td>\n",
       "      <td>37.1291</td>\n",
       "      <td>36.6562</td>\n",
       "      <td>100.71K</td>\n",
       "      <td>0.53</td>\n",
       "    </tr>\n",
       "    <tr>\n",
       "      <th>259</th>\n",
       "      <td>07/11/2022</td>\n",
       "      <td>36.5694</td>\n",
       "      <td>36.4880</td>\n",
       "      <td>37.0091</td>\n",
       "      <td>36.3966</td>\n",
       "      <td>94.51K</td>\n",
       "      <td>0.06</td>\n",
       "    </tr>\n",
       "    <tr>\n",
       "      <th>260</th>\n",
       "      <td>04/11/2022</td>\n",
       "      <td>36.5482</td>\n",
       "      <td>35.7991</td>\n",
       "      <td>36.6978</td>\n",
       "      <td>35.7697</td>\n",
       "      <td>86.23K</td>\n",
       "      <td>2.69</td>\n",
       "    </tr>\n",
       "  </tbody>\n",
       "</table>\n",
       "<p>261 rows × 7 columns</p>\n",
       "</div>"
      ],
      "text/plain": [
       "           Date    Price     Open     High      Low     Vol.  Change %\n",
       "0    03/11/2023  38.7317  38.5615  39.1237  38.4311      NaN      0.75\n",
       "1    02/11/2023  38.4444  38.4184  38.9694  38.3965      NaN      0.09\n",
       "2    01/11/2023  38.4094  38.3836  38.8150  38.2029      NaN      0.32\n",
       "3    31/10/2023  38.2851  38.6423  39.1202  38.3165      NaN     -0.62\n",
       "4    30/10/2023  38.5252  38.5078  38.7575  38.3493      NaN      0.13\n",
       "..          ...      ...      ...      ...      ...      ...       ...\n",
       "256  10/11/2022  37.6981  36.9783  37.7539  36.5192  130.24K      1.96\n",
       "257  09/11/2022  36.9743  36.9888  37.2570  36.6936  119.36K      0.58\n",
       "258  08/11/2022  36.7628  36.7960  37.1291  36.6562  100.71K      0.53\n",
       "259  07/11/2022  36.5694  36.4880  37.0091  36.3966   94.51K      0.06\n",
       "260  04/11/2022  36.5482  35.7991  36.6978  35.7697   86.23K      2.69\n",
       "\n",
       "[261 rows x 7 columns]"
      ]
     },
     "execution_count": 6,
     "metadata": {},
     "output_type": "execute_result"
    }
   ],
   "source": [
    "rate_data['Change %'] = rate_data['Change %'].apply(lambda x: float(x.split('%')[0].strip()))\n",
    "rate_data"
   ]
  },
  {
   "cell_type": "markdown",
   "id": "d58aeb1d",
   "metadata": {},
   "source": [
    "To make the data more convenient to work with, let's make it more symmetric, computing the log-returns value $r_t = ln(\\frac{ex_t}{ex_{t−1}})$ using \"Change %\" by the formula $r_t = ln(1 + \\frac{change_t}{100})$:"
   ]
  },
  {
   "cell_type": "code",
   "execution_count": 7,
   "id": "7f7157d2",
   "metadata": {},
   "outputs": [],
   "source": [
    "returns = np.array(rate_data['Change %']) / 100 + 1\n",
    "log_returns = np.log(returns)"
   ]
  },
  {
   "cell_type": "markdown",
   "id": "64ad308e",
   "metadata": {},
   "source": [
    "Now we are interested in the distribution family of the log-returns data.\n",
    "\n",
    "Kolmogorov-Smirnov is appropriate Goodness-of-Fit test. So, we will use it to verify if the log-returns data is normally distributed.\n",
    "\n",
    "Let, $r_t \\sim F$, where $F$ - distribution of $r_t$, $\\mu_0$ - mean of $r_t$, $\\sigma_0^2$ - variance of $r_t$.\n",
    "\n",
    "First, define hypothesis:\n",
    "\n",
    "$H_0: F = N(\\mu_0, \\sigma_0^2)$ - distribution of log-returns is normal.\n",
    "\n",
    "$H_1: F \\neq N(\\mu_0, \\sigma_0^2)$ - distribution of log-returns is NOT normal.\n",
    "\n",
    "First, calculate test statistics, which can be computed by the following formula:\n",
    "$$D = \\max\\limits_{x \\in \\mathbb{R}}|\\hat F(x) - F_0(x)|$$"
   ]
  },
  {
   "cell_type": "code",
   "execution_count": 8,
   "id": "fe8371fa",
   "metadata": {},
   "outputs": [
    {
     "data": {
      "text/plain": [
       "(0.061832834587699614, 0.2602675233350302)"
      ]
     },
     "execution_count": 8,
     "metadata": {},
     "output_type": "execute_result"
    }
   ],
   "source": [
    "rate_statistic, rate_p_value = st.kstest(log_returns, 'norm', args=(log_returns.mean(), log_returns.std()))\n",
    "rate_statistic, rate_p_value"
   ]
  },
  {
   "cell_type": "markdown",
   "id": "fe099cfb",
   "metadata": {},
   "source": [
    "Let significance value $\\alpha$ equal to 5% (0.05).\n",
    "\n",
    "So, as $p$-value is greater than $\\alpha$, then with significance level of $5\\%$ ($95\\%$ of confidence) we haven't enough evidence to reject the null hypothesis.\n",
    "\n",
    "Therefore, we can't conclude that log-returns data are not normally distributed based on the current sample and using Kolmogorov-Smirnov test."
   ]
  },
  {
   "cell_type": "markdown",
   "id": "aa789305",
   "metadata": {},
   "source": [
    "### _(b) Now assume that the returns follow a (generalized) $t$-distribution with some unknown degree of freedom. The density function of the $t_{df}$-distribution is given by_\n",
    "\n",
    "### _$$f(x) = \\frac{(1 + \\frac{1}{df}(\\frac{x-\\mu}{\\sigma})^2)^{-\\frac{df+1}{2}}}{B(\\frac{df}{2},\\frac{1}{2})\\sqrt{df}\\sigma}$$_\n",
    "\n",
    "### _where $B(·,·)$ is the beta function (beta(a,b) in R.) Write a code for the log-likelihood function evaluated at the sample of returns, i.e._\n",
    "\n",
    "### _$$ln L(\\mu, \\sigma, df)=\\sum\\limits_{t=1}^{T}ln\\left(\\frac{(1 + \\frac{1}{df}(\\frac{r_t-\\mu}{\\sigma})^2)^{-\\frac{df+1}{2}}}{B(\\frac{df}{2},\\frac{1}{2})\\sqrt{df}\\sigma}\\right)$$_\n",
    "\n",
    "### _and maximize it w.r.t. ($\\mu$, $\\sigma$, $df$). Use a build-in optimization function. Note, that $\\sigma > 0$ and $df > 0$._"
   ]
  },
  {
   "cell_type": "markdown",
   "id": "76db542a",
   "metadata": {},
   "source": [
    "Assume that the returns follow a $t$-distribution with some unknown degree of freedom.\n",
    "\n",
    "Define the density function of the $t_{df}$-distribution by the following formula:\n",
    "$$f(x) = \\frac{(1 + \\frac{1}{df}(\\frac{x-\\mu}{\\sigma})^2)^{-\\frac{df+1}{2}}}{B(\\frac{df}{2},\\frac{1}{2})\\sqrt{df}\\sigma}$$"
   ]
  },
  {
   "cell_type": "code",
   "execution_count": 9,
   "id": "f240a110",
   "metadata": {},
   "outputs": [],
   "source": [
    "def t_dist_density(mu, sigma, df, data):\n",
    "    return (1 + 1/df * ((data - mu)/sigma)**2)**(-(df + 1)/2) / (beta(df/2, 1/2) * math.sqrt(df) * sigma)"
   ]
  },
  {
   "cell_type": "markdown",
   "id": "5118c3bd",
   "metadata": {},
   "source": [
    "Now, define likelihood function $L_{\\mu, \\sigma, df}(r)$, by the following formula:\n",
    "$$L_{\\mu, \\sigma, df}(r) = \\prod\\limits_{t=1}^T \\frac{(1 + \\frac{1}{df}(\\frac{r_t-\\mu}{\\sigma})^2)^{-\\frac{df+1}{2}}}{B(\\frac{df}{2},\\frac{1}{2})\\sqrt{df}\\sigma}$$\n",
    "\n",
    "$L_{\\mu, \\sigma, df}(r)$ is the probability that we observe the particular sample assuming that the underlying parameters equal to $\\mu$, $\\sigma$ and $df$.\n",
    "\n",
    "As our purpose is to find maximum likelihood estimation of the parameters, then we will need to compute derivatives, so to make it easier, let take a $log$ of $L_{\\mu, \\sigma, df}(r)$:\n",
    "$$ln L_{\\mu, \\sigma, df}(r)=\\sum\\limits_{t=1}^{T}ln\\left(\\frac{(1 + \\frac{1}{df}(\\frac{r_t-\\mu}{\\sigma})^2)^{-\\frac{df+1}{2}}}{B(\\frac{df}{2},\\frac{1}{2})\\sqrt{df}\\sigma}\\right)$$"
   ]
  },
  {
   "cell_type": "code",
   "execution_count": 10,
   "id": "3968fdbd",
   "metadata": {},
   "outputs": [],
   "source": [
    "def log_likelihood_func(x, data):\n",
    "    mu, sigma, df = x\n",
    "    return -np.sum(np.log(t_dist_density(mu, sigma, df, data)))"
   ]
  },
  {
   "cell_type": "markdown",
   "id": "5bf6ce2f",
   "metadata": {},
   "source": [
    "Let initial values of parameters: $\\mu_0 = \\overline{r_t}$, $\\sigma_0 = S_{r_t}$ and $df_0 = 1$.\n",
    "\n",
    "Also consider bounds that $\\sigma > 0$ and $df > 0$.\n",
    "\n",
    "So, let's find maximum of the function (software library includes only minimize method, that's why we set minus $ln(f(x))$ previously and will find a minimum of such function, that is actually the maximum of the original function):"
   ]
  },
  {
   "cell_type": "code",
   "execution_count": 11,
   "id": "14454eeb",
   "metadata": {},
   "outputs": [
    {
     "data": {
      "text/plain": [
       "array([5.12919408e-04, 6.06017644e-03, 8.10367250e+00])"
      ]
     },
     "execution_count": 11,
     "metadata": {},
     "output_type": "execute_result"
    }
   ],
   "source": [
    "initial = [log_returns.mean(), log_returns.std(), 1]  # mu, sigma, df\n",
    "\n",
    "result = minimize(log_likelihood_func, initial, args=log_returns, bounds=[(None, None), (0, None), (0, None)])\n",
    "result.x"
   ]
  },
  {
   "cell_type": "markdown",
   "id": "d18994d1",
   "metadata": {},
   "source": [
    "So, if we assume that log-returns data follow $t$-distribution, then $f(x)$ with parameters $\\mu_0 = 0.00051$, $\\sigma_0 = 0.00606$ and $df_0 = 8.10367$ will describe our sample in the best way."
   ]
  },
  {
   "cell_type": "markdown",
   "id": "f1ecd1e6",
   "metadata": {},
   "source": [
    "## 2. Here we run a few tests for the data used in the first assignment. For every test write down: the two hypotheses; the formula for the test statistic with inserted values; rejection area computed manually; $p$-value from your software; your decision and the verbal conclusion (not just sth like “$H_0$ is rejected”). Use for all tests $\\alpha = 5\\%$."
   ]
  },
  {
   "cell_type": "markdown",
   "id": "a368e46f",
   "metadata": {},
   "source": [
    "Let, download the data from CEO dataset:"
   ]
  },
  {
   "cell_type": "code",
   "execution_count": 12,
   "id": "eba08853",
   "metadata": {},
   "outputs": [],
   "source": [
    "ceo_data = pd.read_excel('ceo.xlsx')\n",
    "\n",
    "ages = np.array(ceo_data['age'])\n",
    "salaries = np.array(ceo_data['salary'])\n",
    "sales = np.array(ceo_data['sales'])\n",
    "profits = np.array(ceo_data['profits'])"
   ]
  },
  {
   "cell_type": "markdown",
   "id": "a75a2281",
   "metadata": {},
   "source": [
    "Set significance level for all following test to $5\\%$:"
   ]
  },
  {
   "cell_type": "code",
   "execution_count": 13,
   "id": "d04140f1",
   "metadata": {},
   "outputs": [],
   "source": [
    "alpha = 0.05"
   ]
  },
  {
   "cell_type": "markdown",
   "id": "eb813bd4",
   "metadata": {},
   "source": [
    "### _(a) We argue that the expected age of a CEO is higher than $60$ years. Can this be confirmed with an appropriate test?_"
   ]
  },
  {
   "cell_type": "markdown",
   "id": "d3337a60",
   "metadata": {},
   "source": [
    "As we need to estimate mean value and we don't know the value of variance, so the appropriate test to run will be T-test.\n",
    "\n",
    "First, define hypotheses for test:\n",
    "\n",
    "$H_0: \\mu \\leq 60$ - expected age of a CEO is less or equal than 60 years \n",
    "\n",
    "$H_1: \\mu > 60$ - expected age of a CEO is higher than 60 years \n",
    "\n",
    "Then according to the T-test:\n",
    "\n",
    "- we estimate $\\sigma^2$ by $S^2$\n",
    "\n",
    "- test statistics will be equal to $V = \\sqrt{n}\\frac{\\bar{X} - \\mu_0}{s} \\sim t_{n-1}$\n",
    "\n",
    "- as we will use right-sided test, the rejection area will be equal to $B = (t_{n-1;1-\\alpha};+\\infty)$\n",
    "\n",
    "First, let's define rejection area, so find value of $t_{n-1;1-\\alpha}$:"
   ]
  },
  {
   "cell_type": "code",
   "execution_count": 14,
   "id": "366d0365",
   "metadata": {},
   "outputs": [
    {
     "data": {
      "text/plain": [
       "1.6482773005072497"
      ]
     },
     "execution_count": 14,
     "metadata": {},
     "output_type": "execute_result"
    }
   ],
   "source": [
    "st.t.ppf(1 - alpha, len(ages)-1)"
   ]
  },
  {
   "cell_type": "markdown",
   "id": "b9bba710",
   "metadata": {},
   "source": [
    "So, rejection area is $B = (1.6482;+\\infty)$\n",
    "\n",
    "Let's compute test statistics:"
   ]
  },
  {
   "cell_type": "code",
   "execution_count": 15,
   "id": "7a35497c",
   "metadata": {},
   "outputs": [
    {
     "data": {
      "text/plain": [
       "-10.977582610457409"
      ]
     },
     "execution_count": 15,
     "metadata": {},
     "output_type": "execute_result"
    }
   ],
   "source": [
    "age_mu = 60\n",
    "\n",
    "age_statistics = math.sqrt(len(ages)) * (np.mean(ages) - age_mu) / np.std(ages)\n",
    "age_statistics"
   ]
  },
  {
   "cell_type": "markdown",
   "id": "33c49f8c",
   "metadata": {},
   "source": [
    "As test statistics is not in rejection area, we can't reject $H_0$.\n",
    "\n",
    "Let's check it also using $p$-value.\n",
    "\n",
    "Now, find $p$-value for this test statistics. As we have right-sided test, $p$-value will be calculated by the following formula:\n",
    "$$p = 1 - \\hat{F}(V)$$"
   ]
  },
  {
   "cell_type": "code",
   "execution_count": 16,
   "id": "48a743fa",
   "metadata": {},
   "outputs": [
    {
     "data": {
      "text/plain": [
       "1.0"
      ]
     },
     "execution_count": 16,
     "metadata": {},
     "output_type": "execute_result"
    }
   ],
   "source": [
    "age_pvalue = 1 - st.t.cdf(age_statistics, len(ages) - 1)\n",
    "age_pvalue"
   ]
  },
  {
   "cell_type": "markdown",
   "id": "8a7ac6b3",
   "metadata": {},
   "source": [
    "So, as $p$-value is greater than $\\alpha$, then with significance level of $5\\%$ ($95\\%$ of confidence) we have not enough evidences to reject $H_0$. Therefore, we can't confirm that the expected age of CEO is higher than 60 years."
   ]
  },
  {
   "cell_type": "markdown",
   "id": "4b7da681",
   "metadata": {},
   "source": [
    "### _(b) We would like to check if the salary of CEOs that are younger than $60$ is significantly different from the expected salary of CEOs older than $60$. Assume that the variances are unknown and not necessarily equal._"
   ]
  },
  {
   "cell_type": "markdown",
   "id": "9e2b772a",
   "metadata": {},
   "source": [
    "Now we want to compare salary of two groups of CEO: younger than 60 and older ones. \n",
    "\n",
    "First, let separate it from the general sample:"
   ]
  },
  {
   "cell_type": "code",
   "execution_count": 17,
   "id": "89226cc5",
   "metadata": {},
   "outputs": [],
   "source": [
    "salary_younger_60 = ceo_data[ceo_data['age'] < 60]['salary']\n",
    "salary_older_60 = ceo_data[ceo_data['age'] >= 60]['salary']"
   ]
  },
  {
   "cell_type": "markdown",
   "id": "5731164f",
   "metadata": {},
   "source": [
    "As variances ($\\sigma_1^2$ and $\\sigma_2^2$) are unknown and not necessarily equal, then an appropriate test for such purpose will be asymptotic two-sample Z-test:\n",
    "\n",
    "$H_0: \\mu_1 = \\mu_2$ - the salary of CEOs that are younger than  $60$ is similar to the expected salary of CEOs older than  60\n",
    "\n",
    "$H_1: \\mu_1 \\neq \\mu_2$ - the salary of CEOs that are younger than  $60$ is significantly different from the expected salary of CEOs older than  60\n",
    "\n",
    "- so, we estimate $\\sigma_1^2$ by $S_1^2$ and $\\sigma_2^2$ by $S_2^2$\n",
    "\n",
    "- test statistics will be equal to $V = \\frac{\\bar{X} - \\bar{Y}}{\\sqrt{\\frac{S_1^2}{n_1} - \\frac{S_2^2}{n_2}}} \n",
    "\\overset{approx.}{\\sim} N(0, 1)$\n",
    "\n",
    "- for two sided test the rejection area will be equal to $B = (-\\infty; -Z_{1-\\frac{\\alpha}{2}}) \\cup (Z_{1-\\frac{\\alpha}{2}}; +\\infty)$\n",
    "\n",
    "First, let's define rejection area, so find value of $Z_{1-\\frac{\\alpha}{2}}$:"
   ]
  },
  {
   "cell_type": "code",
   "execution_count": 18,
   "id": "6411f7ab",
   "metadata": {},
   "outputs": [
    {
     "data": {
      "text/plain": [
       "1.959963984540054"
      ]
     },
     "execution_count": 18,
     "metadata": {},
     "output_type": "execute_result"
    }
   ],
   "source": [
    "st.norm.ppf(1 - alpha/2)"
   ]
  },
  {
   "cell_type": "markdown",
   "id": "38aa9fed",
   "metadata": {},
   "source": [
    "So, rejection area is $B = (-\\infty;-1.9599) \\cup (1.9599;+\\infty)$\n",
    "\n",
    "Let's compute test statistics:"
   ]
  },
  {
   "cell_type": "code",
   "execution_count": 19,
   "id": "72409c10",
   "metadata": {},
   "outputs": [
    {
     "data": {
      "text/plain": [
       "2.6453856427062306"
      ]
     },
     "execution_count": 19,
     "metadata": {},
     "output_type": "execute_result"
    }
   ],
   "source": [
    "salaries_statistic = (np.mean(salary_older_60) - np.mean(salary_younger_60)) / \\\n",
    "    math.sqrt(np.var(salary_older_60) / len(salary_older_60) - np.var(salary_younger_60) / len(salary_younger_60))\n",
    "salaries_statistic"
   ]
  },
  {
   "cell_type": "markdown",
   "id": "8ac5cc22",
   "metadata": {},
   "source": [
    "As test statistics is in rejection area, we will reject $H_0$, accepting $H_1$.\n",
    "\n",
    "Let's check it also using $p$-value.\n",
    "\n",
    "Let's compute $p$-value for this test statistics. As we have two-sided test, $p$-value will be calculated by the following formula:\n",
    "$$p = 2\\cdot(1 - \\hat{F}(V))$$"
   ]
  },
  {
   "cell_type": "code",
   "execution_count": 20,
   "id": "8e1254a1",
   "metadata": {},
   "outputs": [
    {
     "data": {
      "text/plain": [
       "0.008159786279517078"
      ]
     },
     "execution_count": 20,
     "metadata": {},
     "output_type": "execute_result"
    }
   ],
   "source": [
    "salaries_p_value = 2 * (1 - st.norm.cdf(salaries_statistic))\n",
    "salaries_p_value"
   ]
  },
  {
   "cell_type": "markdown",
   "id": "7d309452",
   "metadata": {},
   "source": [
    "So, as $p$-value less than $\\alpha$, then with significance level of $5\\%$ ($95\\%$ of confidence) we can reject $H_0$. So, we can conclude that the salary of CEOs that are younger than  $60$ is significantly different from the expected salary of CEOs older than $60$."
   ]
  },
  {
   "cell_type": "markdown",
   "id": "89b3faf4",
   "metadata": {},
   "source": [
    "### _(c) We suspect that the sales are not related to the profits. Check this using the Pearson correlation coefficient._"
   ]
  },
  {
   "cell_type": "markdown",
   "id": "01f25e35",
   "metadata": {},
   "source": [
    "Now let's check the relationship between sales and profits. Let's define the hypotheses:\n",
    "\n",
    "$H_0: \\rho = 0$ - sales are not linearly related to the profits.\n",
    "\n",
    "$H_1: \\rho \\neq 0$ - sales and profits are linearly dependent.\n",
    "\n",
    "An appropriate test is Pearson correlation test:\n",
    "\n",
    "- so, we will estimate $\\rho$ by $r_{XY}=\\hat{\\rho}$:\n",
    "$$r_{XY} = \\hat{\\rho} = \\frac{S_{XY}}{S_XS_Y} = \\frac{\\sum\\limits_{i=1}^{n}(x_i - \\bar{x})(y_i - \\bar{y})}{\\sqrt{\\sum\\limits_{i=1}^{n}(x_i - \\bar{x})^2\\sum\\limits_{i=1}^{n}(y_i - \\bar{y})^2}}$$\n",
    "\n",
    "- test statistics will be equal to $V = \\sqrt{n-2}\\frac{\\hat{\\rho}}{\\sqrt{1-\\hat{\\rho}}} \n",
    "\\overset{approx.}{\\sim} N(0, 1)$\n",
    "\n",
    "- for two-sided test the rejection area will be equal to $B = (-\\infty; -t_{n-2;1-\\frac{\\alpha}{2}}) \\cup (t_{n-2;1-\\frac{\\alpha}{2}}; +\\infty)$"
   ]
  },
  {
   "cell_type": "markdown",
   "id": "ae5bee38",
   "metadata": {},
   "source": [
    "First, let's define rejection area, so find value of $t_{n-2;1-\\frac{\\alpha}{2}}$:"
   ]
  },
  {
   "cell_type": "code",
   "execution_count": 21,
   "id": "e46faa3c",
   "metadata": {},
   "outputs": [
    {
     "data": {
      "text/plain": [
       "1.965309213413216"
      ]
     },
     "execution_count": 21,
     "metadata": {},
     "output_type": "execute_result"
    }
   ],
   "source": [
    "st.t.ppf(1 - alpha/2, len(ceo_data) - 2)"
   ]
  },
  {
   "cell_type": "markdown",
   "id": "76a889fa",
   "metadata": {},
   "source": [
    "So, rejection area is $B = (-\\infty;-1.9653) \\cup (1.9653;+\\infty)$"
   ]
  },
  {
   "cell_type": "markdown",
   "id": "9509cb94",
   "metadata": {},
   "source": [
    "Then compute the value of Pearson correlation coefficient:"
   ]
  },
  {
   "cell_type": "code",
   "execution_count": 1,
   "id": "fefb0b27",
   "metadata": {},
   "outputs": [
    {
     "ename": "NameError",
     "evalue": "name 'ceo_data' is not defined",
     "output_type": "error",
     "traceback": [
      "\u001b[0;31m---------------------------------------------------------------------------\u001b[0m",
      "\u001b[0;31mNameError\u001b[0m                                 Traceback (most recent call last)",
      "Cell \u001b[0;32mIn[1], line 1\u001b[0m\n\u001b[0;32m----> 1\u001b[0m n \u001b[38;5;241m=\u001b[39m \u001b[38;5;28mlen\u001b[39m(ceo_data)\n\u001b[1;32m      2\u001b[0m mean_sales \u001b[38;5;241m=\u001b[39m np\u001b[38;5;241m.\u001b[39mmean(sales)\n\u001b[1;32m      3\u001b[0m mean_profits \u001b[38;5;241m=\u001b[39m np\u001b[38;5;241m.\u001b[39mmean(profits)\n",
      "\u001b[0;31mNameError\u001b[0m: name 'ceo_data' is not defined"
     ]
    }
   ],
   "source": [
    "n = len(ceo_data)\n",
    "mean_sales = np.mean(sales)\n",
    "mean_profits = np.mean(profits)\n",
    "\n",
    "r = (np.sum((sales - mean_sales) * (profits - mean_profits))) / \\\n",
    "     math.sqrt(np.sum((sales - mean_sales)**2) * (np.sum((profits - mean_profits)**2)))\n",
    "\n",
    "r"
   ]
  },
  {
   "cell_type": "markdown",
   "id": "585bf7d8",
   "metadata": {},
   "source": [
    "Find the test statistics:"
   ]
  },
  {
   "cell_type": "code",
   "execution_count": 23,
   "id": "91e7024a",
   "metadata": {},
   "outputs": [
    {
     "data": {
      "text/plain": [
       "29.25498115467614"
      ]
     },
     "execution_count": 23,
     "metadata": {},
     "output_type": "execute_result"
    }
   ],
   "source": [
    "corr_statistics = math.sqrt(n - 2) * r / math.sqrt(1 - r)\n",
    "corr_statistics"
   ]
  },
  {
   "cell_type": "markdown",
   "id": "316c9d20",
   "metadata": {},
   "source": [
    "As test statistics is in rejection area, we will reject $H_0$, accepting $H_1$.\n",
    "\n",
    "Let's check it also using $p$-value.\n",
    "\n",
    "Based on this value, let's find $p$-value. As we have two-sided test, $p$-value will be calculated by the following formula:\n",
    "$$p = 2\\cdot(1 - \\hat{F}(V))$$"
   ]
  },
  {
   "cell_type": "code",
   "execution_count": 24,
   "id": "b211ff32",
   "metadata": {},
   "outputs": [
    {
     "data": {
      "text/plain": [
       "0.0"
      ]
     },
     "execution_count": 24,
     "metadata": {},
     "output_type": "execute_result"
    }
   ],
   "source": [
    "corr_pvalue = (1 - st.t.cdf(corr_statistics, n - 2)) * 2\n",
    "corr_pvalue"
   ]
  },
  {
   "cell_type": "markdown",
   "id": "b2644b8a",
   "metadata": {},
   "source": [
    "So, as $p$-value is less than $\\alpha$, then with significance level of $5\\%$ ($95\\%$ of confidence) we can reject $H_0$. So, we can conclude that the sales of CEOs are linearly dependent on the profits."
   ]
  },
  {
   "cell_type": "markdown",
   "id": "e14ce291",
   "metadata": {},
   "source": [
    "### _(d) Test if the fraction of CEOs older than 60 is significantly higher than $50\\%$._"
   ]
  },
  {
   "cell_type": "markdown",
   "id": "f79a2e92",
   "metadata": {},
   "source": [
    "Now, let's investigate the fraction of CEOs, older than 60. \n",
    "\n",
    "First, separate CEOs older than 60:"
   ]
  },
  {
   "cell_type": "code",
   "execution_count": 25,
   "id": "b6784cc1",
   "metadata": {},
   "outputs": [],
   "source": [
    "older_60 = ceo_data[ceo_data['age'] > 60]"
   ]
  },
  {
   "cell_type": "markdown",
   "id": "c858142a",
   "metadata": {},
   "source": [
    "To analyse fraction, we need to run proportion test.\n",
    "\n",
    "First, define hypotheses for test:\n",
    "\n",
    "$H_0: p \\leq 50\\%$ - fraction of CEOs older than 60 is significantly higher than 50%.\n",
    "\n",
    "$H_1: p > 50\\%$ - fraction of CEOs older than 60 is less or equal than 50%.\n",
    "\n",
    "Then according to the this test:\n",
    "\n",
    "- we estimate $\\hat{p}$ by $\\bar{x}$\n",
    "\n",
    "- test statistics will be equal to $V = \\sqrt{n}\\frac{\\bar{x} - p_0}{\\sqrt{p_0(1 - p_0)}} \\overset{approx.}{\\sim} N(0, 1)$\n",
    "\n",
    "- as we will use right-sided test, the rejection area will be equal to $B = (Z_{1-\\alpha};+\\infty)$"
   ]
  },
  {
   "cell_type": "markdown",
   "id": "f097c991",
   "metadata": {},
   "source": [
    "First, let's define rejection area, so find value of $Z_{1-\\alpha}$:"
   ]
  },
  {
   "cell_type": "code",
   "execution_count": 26,
   "id": "e3209f77",
   "metadata": {},
   "outputs": [
    {
     "data": {
      "text/plain": [
       "1.6448536269514722"
      ]
     },
     "execution_count": 26,
     "metadata": {},
     "output_type": "execute_result"
    }
   ],
   "source": [
    "st.norm.ppf(1 - alpha)"
   ]
  },
  {
   "cell_type": "markdown",
   "id": "28e8b99f",
   "metadata": {},
   "source": [
    "So, rejection area is $B = (1.6448;+\\infty)$\n",
    "\n",
    "Let's compute test statistics:"
   ]
  },
  {
   "cell_type": "code",
   "execution_count": 27,
   "id": "0dbdb17b",
   "metadata": {},
   "outputs": [
    {
     "data": {
      "text/plain": [
       "-9.790764035696323"
      ]
     },
     "execution_count": 27,
     "metadata": {},
     "output_type": "execute_result"
    }
   ],
   "source": [
    "n = len(ceo_data)\n",
    "p_0 = 0.5\n",
    "p = len(older_60) / n\n",
    "\n",
    "test_statistics = math.sqrt(n) * (p - p_0) / math.sqrt(p_0 * (1 - p_0))\n",
    "test_statistics"
   ]
  },
  {
   "cell_type": "markdown",
   "id": "e324babc",
   "metadata": {},
   "source": [
    "As test statistics is not in rejection area, we can't reject $H_0$.\n",
    "\n",
    "Let's check it also using $p$-value.\n",
    "\n",
    "Calculate $p$-value for this test statistics. As we have right-sided test, $p$-value will be calculated by the following formula:\n",
    "$$p = 1 - \\hat{F}(V)$$"
   ]
  },
  {
   "cell_type": "code",
   "execution_count": 28,
   "id": "22f588e6",
   "metadata": {},
   "outputs": [
    {
     "data": {
      "text/plain": [
       "1.0"
      ]
     },
     "execution_count": 28,
     "metadata": {},
     "output_type": "execute_result"
    }
   ],
   "source": [
    "pvalue = 1 - st.norm.cdf(test_statistics)\n",
    "pvalue"
   ]
  },
  {
   "cell_type": "markdown",
   "id": "905b07a4",
   "metadata": {},
   "source": [
    "As we get $p$-value, which is greater than $\\alpha$, thus, we can't reject $H_0$ with significance level of $5\\%$ ($95\\%$ of confidence) as we don't have significant evidence. It means, that we can't conclude that the fraction of CEOs older than 60 is significantly higher than 50%."
   ]
  },
  {
   "cell_type": "markdown",
   "id": "cc91d6b0",
   "metadata": {},
   "source": [
    "### _(e) All the above tests rely on the normality assumption of salary. Check this assumption using the Kolmogorov-Smirnov test. Use only built-it functions, no manual computations here._"
   ]
  },
  {
   "cell_type": "markdown",
   "id": "38ac19e0",
   "metadata": {},
   "source": [
    "Now we are interested in the distribution family of the salaries data.\n",
    "\n",
    "Kolmogorov-Smirnov is appropriate Goodness-of-Fit test. So, we will use it to verify if the salaries data is normally distributed.\n",
    "\n",
    "Let, $x_i \\sim F$, where $F$ - distribution of $x_i$, $\\mu_0$ - mean of $x_i$, $\\sigma_0^2$ - variance of $x_i$.\n",
    "\n",
    "First, define hypothesis:\n",
    "\n",
    "$H_0: F = N(\\mu_0, \\sigma_0^2)$ - distribution of salaries is normal.\n",
    "\n",
    "$H_1: F \\neq N(\\mu_0, \\sigma_0^2)$ - distribution of salaries is NOT normal.\n",
    "\n",
    "Calculate test statistics, which can be computed by the following formula:\n",
    "$$D = \\max\\limits_{x \\in \\mathbb{R}}|\\hat F(x) - F_0(x)|$$"
   ]
  },
  {
   "cell_type": "code",
   "execution_count": 29,
   "id": "c43dfffe",
   "metadata": {},
   "outputs": [
    {
     "data": {
      "text/plain": [
       "(0.1861560957439804, 4.932101822403862e-14)"
      ]
     },
     "execution_count": 29,
     "metadata": {},
     "output_type": "execute_result"
    }
   ],
   "source": [
    "ks_statistic, pvalue = st.kstest(salaries, 'norm', args=(salaries.mean(), salaries.std()))\n",
    "ks_statistic, pvalue"
   ]
  },
  {
   "cell_type": "markdown",
   "id": "a12d60c4",
   "metadata": {},
   "source": [
    "Here we have $p$-value, which is close to $0$, so it's less than $\\alpha$. Thus, we reject $H_0$ with significance level of $5\\%$ ($95\\%$ of confidence). It means, that we can conclude that salaries aren't normally distributed."
   ]
  },
  {
   "cell_type": "markdown",
   "id": "35a88867",
   "metadata": {},
   "source": [
    "## 3. The next objective is check if the probability of type $1$ error (size of a test) is correctly attained by a simple two-sided test for the mean.\n",
    "\n",
    "### _(a) Simulate a sample of length $n=100$ from a normal distribution with mean $\\mu_0=500$ and variance $\\sigma^2=50$. (Note: you may use the transformation $X=\\mu+\\sigma Z$, where $Z\\sim N(0,1)$) The objective is to test the null hypothesis $H_0$ : $\\mu=500$. Assume that $\\sigma^2$ has to be estimated. Compute the test statistics using the formulas in the lecture; determine the rejection area for $\\alpha=0.04$ and decide if $H_0$ can be rejected._"
   ]
  },
  {
   "cell_type": "markdown",
   "id": "dd3fca26",
   "metadata": {},
   "source": [
    "First of all, let's generate the sample of size $n=100$, such that $X_i \\sim N(500, 50)$:"
   ]
  },
  {
   "cell_type": "code",
   "execution_count": 30,
   "id": "33200230",
   "metadata": {},
   "outputs": [],
   "source": [
    "n = 100\n",
    "mu_0 = 500\n",
    "sigma = math.sqrt(50)\n",
    "alpha = 0.04\n",
    "norm_sample = np.random.normal(loc=mu_0, scale=sigma, size=n) # loc - mean, scale - std"
   ]
  },
  {
   "cell_type": "markdown",
   "id": "45f99d48",
   "metadata": {},
   "source": [
    "$H_0: \\mu = 500$\n",
    "\n",
    "$H_1: \\mu \\neq 500$\n",
    "\n",
    "as variance of the distribution ($\\sigma^2$) is unknown, so we will use T-test:\n",
    "\n",
    "- so, we will estimate $\\sigma^2$ by $S^2$\n",
    "\n",
    "- test statistics will be equal to $V = \\sqrt{n}\\frac{\\bar{X} - \\mu_0}{s} \\sim t_{n-1}$\n",
    "\n",
    "- as we will use two-sided test, the rejection area will be equal to $B = (-\\infty;-t_{n-1;1-\\frac{\\alpha}{2}}) \\cup (t_{n-1;1-\\frac{\\alpha}{2}};+\\infty)$\n",
    "\n",
    "Now, let's calculate test statistics:"
   ]
  },
  {
   "cell_type": "code",
   "execution_count": 31,
   "id": "2c52f6ff",
   "metadata": {},
   "outputs": [
    {
     "data": {
      "text/plain": [
       "0.8949408150333102"
      ]
     },
     "execution_count": 31,
     "metadata": {},
     "output_type": "execute_result"
    }
   ],
   "source": [
    "t_statistics = math.sqrt(len(norm_sample)) * (np.mean(norm_sample) - mu_0) / np.std(norm_sample)\n",
    "t_statistics"
   ]
  },
  {
   "cell_type": "markdown",
   "id": "6bae367d",
   "metadata": {},
   "source": [
    "Let's find the value of $t_{n-1;1-\\frac{\\alpha}{2}}$ to build the rejection area:"
   ]
  },
  {
   "cell_type": "code",
   "execution_count": 32,
   "id": "063ab161",
   "metadata": {},
   "outputs": [
    {
     "data": {
      "text/plain": [
       "2.081161540890138"
      ]
     },
     "execution_count": 32,
     "metadata": {},
     "output_type": "execute_result"
    }
   ],
   "source": [
    "st.t.ppf(q=1-alpha/2, df=n-1)"
   ]
  },
  {
   "cell_type": "markdown",
   "id": "317dbae4",
   "metadata": {},
   "source": [
    "So, in such case, the rejection are is $B \\in (-\\infty;-2.08) \\cup (2.08;+\\infty)$.\n",
    "\n",
    "As we have test statistics $0.894$. It is not in rejection area. It means that we haven't sufficient evidence against $H_0$, so we can't reject it. Therefore, we can't conclude that expected value of the sample is significantly different from $500$, that is natural as we have normal sample with the mean of $500$."
   ]
  },
  {
   "cell_type": "markdown",
   "id": "7c51a5e1",
   "metadata": {},
   "source": [
    "### _(b) Simulate $M=1000$ samples of size $n=100$ and with $\\mu_0=500$ and variance $\\sigma^2=50$. For each sample $i$ run the test (using a standard function) and set $p_i=0$ if $H_0$ is not rejected and $p_i=1$ if rejected. Compute $\\hat{\\alpha}=\\frac{1}{M}\\sum\\limits_{i=1}^{M}p_i$. $\\hat{\\alpha}$ is the empirical confidence level (empirical size) of the test. Compare $\\hat{\\alpha}$ with $\\alpha$. Do you expect the difference to be large or small and why? Relate it to the assumptions of the test._"
   ]
  },
  {
   "cell_type": "markdown",
   "id": "e3278124",
   "metadata": {},
   "source": [
    "By the definition $\\alpha$ is a significance level, so it's the probability of rejecting of $H_0$, when it's actually true. It's called type I error rate.\n",
    "\n",
    "We generate samples of normal distribution, such that $X_i \\sim N(500, 50)$ and test it, Thus $H_0$ ($\\mu_0 = 500$) is true, then $\\hat{\\alpha} = \\frac{1}{M}\\sum\\limits_{i=1}^M p_i$ is the fraction of incorrectly rejected $H_0$, which is actually the probability of rejecting $H_0$, when it's correct (as our samples are normal). So, by the definition it's a significance level itsef.\n",
    "\n",
    "Therefore, we will expect that empirical size would be almost equal to a significance level $\\hat{\\alpha} \\sim \\alpha$."
   ]
  },
  {
   "cell_type": "markdown",
   "id": "b7977ef0",
   "metadata": {},
   "source": [
    "Let's generate $M = 1000$ samples, such that $X_i \\sim N(500, 50)$, run the test for each of them and calculate empirical size:"
   ]
  },
  {
   "cell_type": "code",
   "execution_count": 33,
   "id": "ac4ce30a",
   "metadata": {},
   "outputs": [],
   "source": [
    "M = 1000\n",
    "n = 100\n",
    "mu_0 = 500\n",
    "sigma = math.sqrt(50)"
   ]
  },
  {
   "cell_type": "code",
   "execution_count": 34,
   "id": "550894be",
   "metadata": {},
   "outputs": [
    {
     "data": {
      "text/plain": [
       "0.042"
      ]
     },
     "execution_count": 34,
     "metadata": {},
     "output_type": "execute_result"
    }
   ],
   "source": [
    "p_result = []\n",
    "for i in range(M):\n",
    "    norm_sample = np.random.normal(loc=mu_0, scale=sigma, size=n) # loc - mean, scale - std\n",
    "    test_statistics = st.ttest_1samp(norm_sample, mu_0).statistic\n",
    "    t_value = st.t.ppf(q=1-alpha/2, df=n-1)\n",
    "    if test_statistics < -t_value or t_value < test_statistics:\n",
    "        p_result.append(1)\n",
    "    else:\n",
    "        p_result.append(0)\n",
    "emp_size = np.mean(p_result)\n",
    "emp_size"
   ]
  },
  {
   "cell_type": "markdown",
   "id": "7f1e150b",
   "metadata": {},
   "source": [
    "So, as we expected the difference between $\\hat{\\alpha}$ and $\\alpha$ is small ($\\hat{\\alpha} \\sim \\alpha$). We can conclude, the test is performing correctly under its assumptions. Deviations from these assumptions can lead to inaccurate results, including incorrect estimation of the type I error rate."
   ]
  },
  {
   "cell_type": "markdown",
   "id": "a8755f86",
   "metadata": {},
   "source": [
    "## 4. Power of a test: The next aim is to assess the probability of type $2$ error (power of a test) of a goodness-of-fit test. Goodness-of-fit tests for the normal distribution are of key importance in statistics, since they allow to verify the distributional assumptions required in many models. Here we check the power of the Kolmogorov-Smirnov test, i.e. is the test capable to detect deviations from normality?\n",
    "\n",
    "### - _Simulate $M=1000$ samples of size $100$ from a $t$-distribution with $df=2,....,50$ degrees of freedom. For each sample run the Kolmogorov-Smirnov test and count the cases when the $H_0$ of normality is correctly rejected (for each $df$). How would you use this quantity to estimate the power of the test? Make an appropriate plot with the df on the $X$-axis. (Note: the $t$-distribution converges to the normal distribution as $df$ tends to infinity. For $df>50$ the distributions are almost identical.) Discuss the plot and draw conclusions about the reliability of the test._"
   ]
  },
  {
   "cell_type": "markdown",
   "id": "4f8a8399",
   "metadata": {},
   "source": [
    "Let's check the power of Kolmogorov-Smirnov test. \n",
    "\n",
    "Let $\\beta$ - probability of not rejecting of the incorrect $H_0$. It's called type II error rate.\n",
    "\n",
    "Then $1 - \\beta$ - is the power of the test, that is the probability of correctly rejecting of $H_0$, when $H_0$ is incorrect ($H_1$ is actually true). \n",
    "\n",
    "$t$-distribution converges to the normal distribution when $df$ tends to infinity. We generate samples of $t$-distribution, then with increasing of $df$ the probability of rejecting incorrect $H_0$ (as we test the normality) is expected to decrease.\n",
    "\n",
    "So, now let's generate $M = 1000$ samples of size $n = 100$ for $df = 2, ..., 50$ and count the cases, when $H_0$ is correctly rejected (power of the test $1 - \\beta$):"
   ]
  },
  {
   "cell_type": "code",
   "execution_count": 35,
   "id": "b0d9ec53",
   "metadata": {},
   "outputs": [],
   "source": [
    "alpha = 0.05\n",
    "M = 1000\n",
    "n = 100\n",
    "dfs = np.arange(2, 51)"
   ]
  },
  {
   "cell_type": "code",
   "execution_count": 36,
   "id": "8bfdebfb",
   "metadata": {},
   "outputs": [],
   "source": [
    "emp_sizes = []\n",
    "for df in dfs:\n",
    "    p_result = []\n",
    "    for i in range(M):\n",
    "        t_sample = np.random.standard_t(df, size=n)\n",
    "        ks_test_result = st.kstest(t_sample, 'norm')\n",
    "        if ks_test_result.pvalue < alpha:\n",
    "            p_result.append(1)\n",
    "        else:\n",
    "            p_result.append(0)\n",
    "    emp_sizes.append(np.mean(p_result))"
   ]
  },
  {
   "cell_type": "markdown",
   "id": "5aedcbd4",
   "metadata": {},
   "source": [
    "Now, let visualize the results:"
   ]
  },
  {
   "cell_type": "code",
   "execution_count": 37,
   "id": "eb1ebc03",
   "metadata": {},
   "outputs": [
    {
     "data": {
      "image/png": "[encoded data removed]",
      "text/plain": [
       "<Figure size 1200x400 with 1 Axes>"
      ]
     },
     "metadata": {},
     "output_type": "display_data"
    }
   ],
   "source": [
    "plt.figure(figsize=(12, 4))\n",
    "plt.plot(dfs, emp_sizes, color='r')\n",
    "plt.xlabel('Degrees of Freedom')\n",
    "plt.ylabel('Power of the Test')\n",
    "plt.grid()"
   ]
  },
  {
   "cell_type": "markdown",
   "id": "3dc0621c",
   "metadata": {},
   "source": [
    "Here we can see that at the beginning, when the degrees of freedom is small - the power of the test is high. It's natural, because we have $t$-distribution, which differs from the normal one.\n",
    "\n",
    "As we expected, when the degrees of freedom increases the probability of rejecting incorrect $H_0$ (power of the test) decreases as $t$-distribution becomes more similar to normal one.\n",
    "\n",
    "So, we can conclude that Kolmogorov-Smirnov test is quite reliable for detecting non-normal distributions, which are significantly different from a normal one, but in case when distribution doesn't differ a lot from the normal distribution, the test is not powerful (power of the test is low). In such case the test \"recognizes\" such distribution as normal one."
   ]
  }
 ],
 "metadata": {
  "kernelspec": {
   "display_name": "Python 3 (ipykernel)",
   "language": "python",
   "name": "python3"
  },
  "language_info": {
   "codemirror_mode": {
    "name": "ipython",
    "version": 3
   },
   "file_extension": ".py",
   "mimetype": "text/x-python",
   "name": "python",
   "nbconvert_exporter": "python",
   "pygments_lexer": "ipython3",
   "version": "3.11.5"
  }
 },
 "nbformat": 4,
 "nbformat_minor": 5
}
